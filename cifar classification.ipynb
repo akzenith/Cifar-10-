{
 "cells": [
  {
   "cell_type": "code",
   "execution_count": 1,
   "metadata": {},
   "outputs": [],
   "source": [
    "import tensorflow as tf\n",
    "from tensorflow.keras import datasets, layers, models, Sequential, optimizers\n",
    "import matplotlib.pyplot as plt\n",
    "import pandas as pd\n",
    "import numpy as np"
   ]
  },
  {
   "cell_type": "code",
   "execution_count": 2,
   "metadata": {},
   "outputs": [
    {
     "data": {
      "text/plain": [
       "(50000, 32, 32, 3)"
      ]
     },
     "execution_count": 2,
     "metadata": {},
     "output_type": "execute_result"
    }
   ],
   "source": [
    "(x_train, y_train), (x_test, y_test) = datasets.cifar10.load_data()\n",
    "x_train.shape"
   ]
  },
  {
   "cell_type": "code",
   "execution_count": 3,
   "metadata": {},
   "outputs": [
    {
     "data": {
      "text/plain": [
       "(10000, 32, 32, 3)"
      ]
     },
     "execution_count": 3,
     "metadata": {},
     "output_type": "execute_result"
    }
   ],
   "source": [
    "x_test.shape"
   ]
  },
  {
   "cell_type": "code",
   "execution_count": 4,
   "metadata": {},
   "outputs": [],
   "source": [
    "#reshaping\n",
    "x_train= x_train.reshape(len(x_train), 32,32,3)\n",
    "x_test= x_test.reshape(len(x_test), 32,32,3)\n",
    "y_train= y_train.reshape(-1,)\n",
    "y_test= y_test.reshape(-1,)"
   ]
  },
  {
   "cell_type": "code",
   "execution_count": 5,
   "metadata": {},
   "outputs": [],
   "source": [
    "#scaling\n",
    "x_train= x_train/255.0\n",
    "x_test= x_test/255.0"
   ]
  },
  {
   "cell_type": "code",
   "execution_count": 6,
   "metadata": {},
   "outputs": [],
   "source": [
    "classes= ['airplane', 'automobile', 'bird', 'cat', 'deer', 'dog', 'frog', 'horse', 'ship','truck']"
   ]
  },
  {
   "cell_type": "code",
   "execution_count": 7,
   "metadata": {},
   "outputs": [],
   "source": [
    "def show_img(x, y, index):\n",
    "    plt.imshow(x[index])\n",
    "    plt.xlabel(classes[y[index]])"
   ]
  },
  {
   "cell_type": "code",
   "execution_count": 8,
   "metadata": {},
   "outputs": [
    {
     "data": {
      "image/png": "[encoded data removed]",
      "text/plain": [
       "<Figure size 432x288 with 1 Axes>"
      ]
     },
     "metadata": {},
     "output_type": "display_data"
    }
   ],
   "source": [
    "show_img(x_test, y_test, 58)"
   ]
  },
  {
   "cell_type": "code",
   "execution_count": 11,
   "metadata": {},
   "outputs": [],
   "source": [
    "model= Sequential([\n",
    "        \n",
    "        layers.Conv2D(filters= 24, kernel_size=(3,3), activation= 'relu', input_shape=(x_train.shape[1:]), name='conv1'),\n",
    "        layers.MaxPool2D(pool_size=(2,2), padding='valid', name='max1'),\n",
    "        layers.Dropout(0.2),  # avoiding overfitting\n",
    "    \n",
    "        layers.Conv2D(filters= 44, kernel_size=(3,3), activation= 'relu', input_shape=(x_train.shape[1:]), name='conv2'),\n",
    "        layers.MaxPool2D(pool_size=(2,2), padding='same', name='max2'),\n",
    "        layers.Dropout(0.5),\n",
    "        \n",
    "        layers.Flatten(),\n",
    "        layers.Dense(units=2000, activation='relu', name='dense1'),\n",
    "        \n",
    "        layers.Dense(units=10, activation='softmax', name='dense2')\n",
    "])\n",
    "        \n",
    "    "
   ]
  },
  {
   "cell_type": "code",
   "execution_count": 12,
   "metadata": {},
   "outputs": [
    {
     "name": "stdout",
     "output_type": "stream",
     "text": [
      "Model: \"sequential\"\n",
      "_________________________________________________________________\n",
      "Layer (type)                 Output Shape              Param #   \n",
      "=================================================================\n",
      "conv1 (Conv2D)               (None, 30, 30, 24)        672       \n",
      "_________________________________________________________________\n",
      "max1 (MaxPooling2D)          (None, 15, 15, 24)        0         \n",
      "_________________________________________________________________\n",
      "conv2 (Conv2D)               (None, 13, 13, 44)        9548      \n",
      "_________________________________________________________________\n",
      "max2 (MaxPooling2D)          (None, 7, 7, 44)          0         \n",
      "_________________________________________________________________\n",
      "dropout (Dropout)            (None, 7, 7, 44)          0         \n",
      "_________________________________________________________________\n",
      "flatten (Flatten)            (None, 2156)              0         \n",
      "_________________________________________________________________\n",
      "dense1 (Dense)               (None, 2000)              4314000   \n",
      "_________________________________________________________________\n",
      "dense2 (Dense)               (None, 10)                20010     \n",
      "=================================================================\n",
      "Total params: 4,344,230\n",
      "Trainable params: 4,344,230\n",
      "Non-trainable params: 0\n",
      "_________________________________________________________________\n"
     ]
    }
   ],
   "source": [
    "model.summary()"
   ]
  },
  {
   "cell_type": "code",
   "execution_count": 13,
   "metadata": {},
   "outputs": [],
   "source": [
    "model.compile(optimizer= optimizers.Adam(1e-3),\n",
    "             loss='sparse_categorical_crossentropy',\n",
    "                    metrics=['accuracy'])"
   ]
  },
  {
   "cell_type": "code",
   "execution_count": 15,
   "metadata": {},
   "outputs": [],
   "source": [
    "# simple early stopping\n",
    "from tensorflow.keras.callbacks import EarlyStopping\n",
    "\n",
    "es = EarlyStopping(monitor='val_loss', mode='min', verbose=1)"
   ]
  },
  {
   "cell_type": "code",
   "execution_count": 16,
   "metadata": {
    "scrolled": true
   },
   "outputs": [
    {
     "name": "stdout",
     "output_type": "stream",
     "text": [
      "Epoch 1/12\n",
      "1407/1407 [==============================] - 85s 60ms/step - loss: 1.4789 - accuracy: 0.4666 - val_loss: 1.2362 - val_accuracy: 0.5696\n",
      "Epoch 2/12\n",
      "1407/1407 [==============================] - 84s 60ms/step - loss: 1.1862 - accuracy: 0.5750 - val_loss: 1.0094 - val_accuracy: 0.6544\n",
      "Epoch 3/12\n",
      "1407/1407 [==============================] - 85s 60ms/step - loss: 1.0265 - accuracy: 0.6374 - val_loss: 0.8930 - val_accuracy: 0.6902\n",
      "Epoch 4/12\n",
      "1407/1407 [==============================] - 85s 61ms/step - loss: 0.9154 - accuracy: 0.6779 - val_loss: 0.8541 - val_accuracy: 0.7072\n",
      "Epoch 5/12\n",
      "1407/1407 [==============================] - 85s 61ms/step - loss: 0.8036 - accuracy: 0.7186 - val_loss: 0.8060 - val_accuracy: 0.7212\n",
      "Epoch 6/12\n",
      "1407/1407 [==============================] - 85s 61ms/step - loss: 0.7128 - accuracy: 0.7501 - val_loss: 0.7782 - val_accuracy: 0.7312\n",
      "Epoch 7/12\n",
      "1407/1407 [==============================] - 86s 61ms/step - loss: 0.6331 - accuracy: 0.7787 - val_loss: 0.7772 - val_accuracy: 0.7276\n",
      "Epoch 8/12\n",
      "1407/1407 [==============================] - 86s 61ms/step - loss: 0.5632 - accuracy: 0.8025 - val_loss: 0.7717 - val_accuracy: 0.7362\n",
      "Epoch 9/12\n",
      "1407/1407 [==============================] - 86s 61ms/step - loss: 0.5021 - accuracy: 0.8250 - val_loss: 0.7726 - val_accuracy: 0.7384\n",
      "Epoch 00009: early stopping\n"
     ]
    }
   ],
   "source": [
    "history3= model.fit(x_train, y_train, \n",
    "                   epochs=12, \n",
    "                   batch_size=32, \n",
    "                   validation_split=0.1,\n",
    "                   verbose = 1,\n",
    "                   shuffle=True,\n",
    "                   callbacks=[es])"
   ]
  },
  {
   "cell_type": "code",
   "execution_count": 17,
   "metadata": {
    "scrolled": true
   },
   "outputs": [
    {
     "name": "stdout",
     "output_type": "stream",
     "text": [
      "313/313 [==============================] - 4s 14ms/step - loss: 0.8050 - accuracy: 0.7276\n"
     ]
    },
    {
     "data": {
      "text/plain": [
       "[0.8050424456596375, 0.7275999784469604]"
      ]
     },
     "execution_count": 17,
     "metadata": {},
     "output_type": "execute_result"
    }
   ],
   "source": [
    "model.evaluate(x_test, y_test)"
   ]
  },
  {
   "cell_type": "code",
   "execution_count": 18,
   "metadata": {
    "scrolled": true
   },
   "outputs": [
    {
     "data": {
      "text/plain": [
       "array([3, 8, 8, 0, 6], dtype=uint8)"
      ]
     },
     "execution_count": 18,
     "metadata": {},
     "output_type": "execute_result"
    }
   ],
   "source": [
    "y_test[:5]"
   ]
  },
  {
   "cell_type": "code",
   "execution_count": 19,
   "metadata": {},
   "outputs": [],
   "source": [
    "y_pred= model.predict(x_test)"
   ]
  },
  {
   "cell_type": "code",
   "execution_count": 20,
   "metadata": {},
   "outputs": [
    {
     "data": {
      "text/plain": [
       "[3, 8, 8, 0, 4]"
      ]
     },
     "execution_count": 20,
     "metadata": {},
     "output_type": "execute_result"
    }
   ],
   "source": [
    "y_pred_classes = [np.argmax(x) for x in y_pred]\n",
    "y_pred_classes[:5]"
   ]
  },
  {
   "cell_type": "code",
   "execution_count": 21,
   "metadata": {
    "scrolled": true
   },
   "outputs": [
    {
     "name": "stdout",
     "output_type": "stream",
     "text": [
      "Classification report: \n",
      "              precision    recall  f1-score   support\n",
      "\n",
      "          0       0.78      0.75      0.77      1000\n",
      "          1       0.82      0.86      0.84      1000\n",
      "          2       0.71      0.55      0.62      1000\n",
      "          3       0.52      0.55      0.53      1000\n",
      "          4       0.68      0.69      0.68      1000\n",
      "          5       0.62      0.61      0.62      1000\n",
      "          6       0.75      0.84      0.79      1000\n",
      "          7       0.76      0.81      0.78      1000\n",
      "          8       0.86      0.80      0.83      1000\n",
      "          9       0.78      0.83      0.80      1000\n",
      "\n",
      "avg / total       0.73      0.73      0.73     10000\n",
      "\n"
     ]
    }
   ],
   "source": [
    "from sklearn.metrics import classification_report\n",
    "print('Classification report: \\n', classification_report(y_test, y_pred_classes))"
   ]
  },
  {
   "cell_type": "code",
   "execution_count": 29,
   "metadata": {},
   "outputs": [],
   "source": [
    "hist_frame = pd.DataFrame(history3.history)"
   ]
  },
  {
   "cell_type": "code",
   "execution_count": 30,
   "metadata": {},
   "outputs": [
    {
     "data": {
      "text/html": [
       "<div>\n",
       "<style scoped>\n",
       "    .dataframe tbody tr th:only-of-type {\n",
       "        vertical-align: middle;\n",
       "    }\n",
       "\n",
       "    .dataframe tbody tr th {\n",
       "        vertical-align: top;\n",
       "    }\n",
       "\n",
       "    .dataframe thead th {\n",
       "        text-align: right;\n",
       "    }\n",
       "</style>\n",
       "<table border=\"1\" class=\"dataframe\">\n",
       "  <thead>\n",
       "    <tr style=\"text-align: right;\">\n",
       "      <th></th>\n",
       "      <th>loss</th>\n",
       "      <th>accuracy</th>\n",
       "      <th>val_loss</th>\n",
       "      <th>val_accuracy</th>\n",
       "    </tr>\n",
       "  </thead>\n",
       "  <tbody>\n",
       "    <tr>\n",
       "      <th>0</th>\n",
       "      <td>1.478896</td>\n",
       "      <td>0.466578</td>\n",
       "      <td>1.236161</td>\n",
       "      <td>0.5696</td>\n",
       "    </tr>\n",
       "    <tr>\n",
       "      <th>1</th>\n",
       "      <td>1.186162</td>\n",
       "      <td>0.575022</td>\n",
       "      <td>1.009406</td>\n",
       "      <td>0.6544</td>\n",
       "    </tr>\n",
       "    <tr>\n",
       "      <th>2</th>\n",
       "      <td>1.026514</td>\n",
       "      <td>0.637400</td>\n",
       "      <td>0.893013</td>\n",
       "      <td>0.6902</td>\n",
       "    </tr>\n",
       "    <tr>\n",
       "      <th>3</th>\n",
       "      <td>0.915437</td>\n",
       "      <td>0.677933</td>\n",
       "      <td>0.854113</td>\n",
       "      <td>0.7072</td>\n",
       "    </tr>\n",
       "    <tr>\n",
       "      <th>4</th>\n",
       "      <td>0.803595</td>\n",
       "      <td>0.718600</td>\n",
       "      <td>0.806001</td>\n",
       "      <td>0.7212</td>\n",
       "    </tr>\n",
       "    <tr>\n",
       "      <th>5</th>\n",
       "      <td>0.712770</td>\n",
       "      <td>0.750111</td>\n",
       "      <td>0.778199</td>\n",
       "      <td>0.7312</td>\n",
       "    </tr>\n",
       "    <tr>\n",
       "      <th>6</th>\n",
       "      <td>0.633140</td>\n",
       "      <td>0.778733</td>\n",
       "      <td>0.777191</td>\n",
       "      <td>0.7276</td>\n",
       "    </tr>\n",
       "    <tr>\n",
       "      <th>7</th>\n",
       "      <td>0.563240</td>\n",
       "      <td>0.802467</td>\n",
       "      <td>0.771741</td>\n",
       "      <td>0.7362</td>\n",
       "    </tr>\n",
       "    <tr>\n",
       "      <th>8</th>\n",
       "      <td>0.502114</td>\n",
       "      <td>0.825044</td>\n",
       "      <td>0.772597</td>\n",
       "      <td>0.7384</td>\n",
       "    </tr>\n",
       "  </tbody>\n",
       "</table>\n",
       "</div>"
      ],
      "text/plain": [
       "       loss  accuracy  val_loss  val_accuracy\n",
       "0  1.478896  0.466578  1.236161        0.5696\n",
       "1  1.186162  0.575022  1.009406        0.6544\n",
       "2  1.026514  0.637400  0.893013        0.6902\n",
       "3  0.915437  0.677933  0.854113        0.7072\n",
       "4  0.803595  0.718600  0.806001        0.7212\n",
       "5  0.712770  0.750111  0.778199        0.7312\n",
       "6  0.633140  0.778733  0.777191        0.7276\n",
       "7  0.563240  0.802467  0.771741        0.7362\n",
       "8  0.502114  0.825044  0.772597        0.7384"
      ]
     },
     "execution_count": 30,
     "metadata": {},
     "output_type": "execute_result"
    }
   ],
   "source": [
    "hist_frame "
   ]
  },
  {
   "cell_type": "code",
   "execution_count": 32,
   "metadata": {
    "scrolled": true
   },
   "outputs": [
    {
     "data": {
      "image/png": "[encoded data removed]",
      "text/plain": [
       "<Figure size 432x288 with 1 Axes>"
      ]
     },
     "metadata": {},
     "output_type": "display_data"
    }
   ],
   "source": [
    "plt.plot(hist_frame['loss'], label='train2')\n",
    "plt.plot(hist_frame ['val_loss'], label='test2')\n",
    "plt.xlabel('No. of epochs')\n",
    "plt.ylabel('loss')\n",
    "plt.legend()\n",
    "plt.show()"
   ]
  },
  {
   "cell_type": "markdown",
   "metadata": {},
   "source": [
    "The training stopped early because the TEST_LOSS(validation loss) was becoming a plateau i.e. wasn't changing much."
   ]
  },
  {
   "cell_type": "code",
   "execution_count": 36,
   "metadata": {},
   "outputs": [
    {
     "data": {
      "image/png": "[encoded data removed]",
      "text/plain": [
       "<Figure size 432x288 with 1 Axes>"
      ]
     },
     "metadata": {},
     "output_type": "display_data"
    }
   ],
   "source": [
    "show_img(x_test, y_test, 67)"
   ]
  },
  {
   "cell_type": "code",
   "execution_count": 37,
   "metadata": {},
   "outputs": [
    {
     "data": {
      "text/plain": [
       "'bird'"
      ]
     },
     "execution_count": 37,
     "metadata": {},
     "output_type": "execute_result"
    }
   ],
   "source": [
    "classes[y_pred_classes[67]]"
   ]
  },
  {
   "cell_type": "code",
   "execution_count": null,
   "metadata": {},
   "outputs": [],
   "source": [
    "# saving the model\n",
    "model.save('cifar_model.h5')"
   ]
  }
 ],
 "metadata": {
  "interpreter": {
   "hash": "c0a04d79b5613659f18632c41aade189455149d556b5fa2c329616e45a7f09a3"
  },
  "kernelspec": {
   "display_name": "Python 3",
   "language": "python",
   "name": "python3"
  },
  "language_info": {
   "codemirror_mode": {
    "name": "ipython",
    "version": 3
   },
   "file_extension": ".py",
   "mimetype": "text/x-python",
   "name": "python",
   "nbconvert_exporter": "python",
   "pygments_lexer": "ipython3",
   "version": "3.6.5"
  }
 },
 "nbformat": 4,
 "nbformat_minor": 2
}
